{
 "cells": [
  {
   "cell_type": "code",
   "execution_count": 1,
   "metadata": {},
   "outputs": [],
   "source": [
    "from olmo.model import OLMo\n",
    "from olmo.config import TrainConfig"
   ]
  },
  {
   "cell_type": "code",
   "execution_count": 2,
   "metadata": {},
   "outputs": [],
   "source": [
    "config_path = \"/home/mila/m/marius.mosbach/projects/olmo/configs/slim_pajama/OLMo-136M.yaml\"\n",
    "cfg = TrainConfig.load(config_path)"
   ]
  },
  {
   "cell_type": "code",
   "execution_count": 3,
   "metadata": {},
   "outputs": [],
   "source": [
    "# we will use the cpu here\n",
    "cfg.model.init_device = \"cpu\""
   ]
  },
  {
   "cell_type": "code",
   "execution_count": 4,
   "metadata": {},
   "outputs": [
    {
     "name": "stdout",
     "output_type": "stream",
     "text": [
      "Total number of parameters: 136,323,584\n",
      "Number of non-embedding parameters: 84,943,360\n"
     ]
    }
   ],
   "source": [
    "olmo_model = OLMo(cfg.model)\n",
    "total_params = olmo_model.num_params()\n",
    "total_non_embedding_params = olmo_model.num_params(include_embedding=False)\n",
    "print(f\"Total number of parameters: {total_params:,d}\")\n",
    "print(f\"Number of non-embedding parameters: {total_non_embedding_params:,d}\")"
   ]
  },
  {
   "cell_type": "code",
   "execution_count": null,
   "metadata": {},
   "outputs": [],
   "source": []
  }
 ],
 "metadata": {
  "kernelspec": {
   "display_name": "olmo",
   "language": "python",
   "name": "python3"
  },
  "language_info": {
   "codemirror_mode": {
    "name": "ipython",
    "version": 3
   },
   "file_extension": ".py",
   "mimetype": "text/x-python",
   "name": "python",
   "nbconvert_exporter": "python",
   "pygments_lexer": "ipython3",
   "version": "3.10.11"
  }
 },
 "nbformat": 4,
 "nbformat_minor": 2
}
