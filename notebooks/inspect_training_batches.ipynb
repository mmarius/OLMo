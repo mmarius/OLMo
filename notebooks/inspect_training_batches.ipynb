{
 "cells": [
  {
   "cell_type": "code",
   "execution_count": 20,
   "metadata": {},
   "outputs": [],
   "source": [
    "import os\n",
    "import numpy as np\n",
    "from cached_path import cached_path\n",
    "\n",
    "from olmo.config import TrainConfig\n",
    "from olmo.data import build_memmap_dataset\n",
    "from olmo.tokenizer import Tokenizer"
   ]
  },
  {
   "cell_type": "markdown",
   "metadata": {},
   "source": [
    "---"
   ]
  },
  {
   "cell_type": "code",
   "execution_count": 11,
   "metadata": {},
   "outputs": [],
   "source": [
    "def get_batch_instances(\n",
    "    dataset: np.memmap, global_indices: np.memmap, batch_size: int, batch_idx: int\n",
    ") -> list[list[int]]:\n",
    "    # get an individual batch of instances\n",
    "    batch_start = batch_idx * batch_size\n",
    "    batch_end = (batch_idx + 1) * batch_size\n",
    "    batch_indices = global_indices[batch_start:batch_end]\n",
    "    batch_instances = []\n",
    "    for index in batch_indices:\n",
    "        token_ids = dataset[index][\"input_ids\"]\n",
    "        batch_instances.append(token_ids)\n",
    "    return np.array(batch_instances)\n"
   ]
  },
  {
   "cell_type": "markdown",
   "metadata": {},
   "source": [
    "---"
   ]
  },
  {
   "cell_type": "code",
   "execution_count": 12,
   "metadata": {},
   "outputs": [],
   "source": [
    "# Specify the path to the data order file and the train config file\n",
    "checkpoint_dir = \"/network/scratch/m/marius.mosbach/olmo/checkpoints/slim_pajama/OLMo-136M-84M-9ec76061bd866c49\"\n",
    "data_order_file_path = os.path.join(checkpoint_dir, \"train_data\", \"global_indices.npy\")\n",
    "train_config_path = os.path.join(checkpoint_dir, \"config.yaml\")"
   ]
  },
  {
   "cell_type": "code",
   "execution_count": 16,
   "metadata": {},
   "outputs": [],
   "source": [
    "# load the train config\n",
    "cfg = TrainConfig.load(train_config_path)\n",
    "\n",
    "# build the memmap dataset\n",
    "dataset = build_memmap_dataset(cfg, cfg.data)\n",
    "global_indices = np.memmap(data_order_file_path, mode=\"r+\", dtype=np.uint32)"
   ]
  },
  {
   "cell_type": "code",
   "execution_count": 18,
   "metadata": {},
   "outputs": [
    {
     "data": {
      "text/plain": [
       "(1024, 1024)"
      ]
     },
     "execution_count": 18,
     "metadata": {},
     "output_type": "execute_result"
    }
   ],
   "source": [
    "# get all token IDs in the first batch\n",
    "batch_idx = 0\n",
    "batch_instances = get_batch_instances(dataset, global_indices, cfg.global_train_batch_size, batch_idx)\n",
    "batch_instances.shape"
   ]
  },
  {
   "cell_type": "code",
   "execution_count": 22,
   "metadata": {},
   "outputs": [],
   "source": [
    "# load the tokenizer\n",
    "tokenizer = Tokenizer.from_file(cfg.tokenizer.identifier)"
   ]
  },
  {
   "cell_type": "code",
   "execution_count": 27,
   "metadata": {},
   "outputs": [
    {
     "name": "stdout",
     "output_type": "stream",
     "text": [
      "1024\n"
     ]
    }
   ],
   "source": [
    "# decode every sequence in the batch\n",
    "decoded_batch = [tokenizer.decode(instance) for instance in batch_instances]\n",
    "print(len(decoded_batch))"
   ]
  },
  {
   "cell_type": "code",
   "execution_count": 30,
   "metadata": {},
   "outputs": [
    {
     "name": "stdout",
     "output_type": "stream",
     "text": [
      " headers: { Accept: 'application/octet-stream' },\n",
      "          parser: proc { |body, _|\n",
      "                    if body.encoding == Encoding::ASCII_8BIT # binary response\n",
      "                      ::Gitlab::FileResponse.new StringIO.new(body, 'rb+')\n",
      "                    else # error with json response\n",
      "                      ::Gitlab::Request.parse(body)\n",
      "                    end\n",
      "                  })\n",
      "    end\n",
      "\n",
      "    # Gets a list of builds for specific commit in a project.\n",
      "    #\n",
      "    # @example\n",
      "    #   Gitlab.commit_builds(5, 'asdf')\n",
      "    #   Gitlab.commit_builds(5, 'asdf', { per_page: 10, page: 2 })\n",
      "    #\n",
      "    # @param  [Integer, String] project The ID or name of a project.\n",
      "    # @param  [String] sha The SHA checksum of a commit.\n",
      "    # @param  [Hash] options A customizable set of options.\n",
      "    # @option options [Integer] :page The page number.\n",
      "    # @option options [Integer] :per_page The number of results per page.\n",
      "    # @return [Array<Gitlab::ObjectifiedHash>] The list of builds.\n",
      "    def commit_builds(project, sha, options = {})\n",
      "      get(\"/projects/#{url_encode project}/repository/commits/#{sha}/builds\", query: options)\n",
      "    end\n",
      "\n",
      "    # Cancels a build.\n",
      "    #\n",
      "    # @example\n",
      "    #   Gitlab.build_cancel(5, 1)\n",
      "    #\n",
      "    # @param  [Integer, String] project The ID or name of a project.\n",
      "    # @param  [Integer] id The ID of a build.\n",
      "    # @return [Gitlab::ObjectifiedHash] The builds changes.\n",
      "    def build_cancel(project, id)\n",
      "      post(\"/projects/#{url_encode project}/builds/#{id}/cancel\")\n",
      "    end\n",
      "\n",
      "    # Retry a build.\n",
      "    #\n",
      "    # @example\n",
      "    #   Gitlab.build_retry(5, 1)\n",
      "    #\n",
      "    # @param  [Integer, String] project The ID or name of a project.\n",
      "    # @param  [Integer] id The ID of a build.\n",
      "    # @return [Array<Gitlab::ObjectifiedHash>] The builds changes.\n",
      "    def build_retry(project, id)\n",
      "      post(\"/projects/#{url_encode project}/builds/#{id}/retry\")\n",
      "    end\n",
      "\n",
      "    # Erase a single build of a project (remove build artifacts and a build trace)\n",
      "    #\n",
      "    # @example\n",
      "    #   Gitlab.build_erase(5, 1)\n",
      "    #\n",
      "    # @param  [Integer, String] project The ID or name of a project.\n",
      "    # @param  [Integer] id The ID of a build.\n",
      "    # @return [Gitlab::ObjectifiedHash] The build's changes.\n",
      "    def build_erase(project, id)\n",
      "      post(\"/projects/#{url_encode project}/builds/#{id}/erase\")\n",
      "    end\n",
      "  end\n",
      "endPrograms>Tribal/State Programs>Family Violence\n",
      "Tribal Court-State Court Forum\n",
      "Indian Child Welfare Act (ICWA)\n",
      "Native American Communities Justice Project (NACJP)\n",
      "California Tribal Communities\n",
      "Tribal Justice Systems\n",
      "Resources relating to cases of domestic violence, dating violence, sexual assault, trafficking, elder abuse, and stalking and Native American communities.\n",
      "A Journey to Healing: How One Tribe Incorporates a Traditional Approach to Address Domestic Violence\n",
      "Listen · 37:10 (Transcript)\n",
      "Before you listen: Please be aware that this episode includes first-person accounts of domestic violence. The people sharing them agreed to do so in hopes that others might benefit from what they've learned.\n",
      "Native American women — and men — are more likely than white counterparts to experience intimate partner violence. That violence is often grounded in trauma that impacts whole communities. For indigenous people, it can be traced back to colonization as well as to racism and oppression that persists today. In this episode, you'll hear members of California's Yurok Tribe talk about the impact of domestic violence, and how the tribal court worked to put in place a culturally-relevant, and more effective, path to healing.\n",
      "In this episode, you will hear from:\n",
      "\"Mark\" and \"Lydia\" who share their personal experiences\n",
      "The Honorable Abbi Abinanti, Elder and Chief Judge of the Yurok Tribe\n",
      "Lori Nesbitt, Facilitator of the Yurok Batterers Intervention Program/Yurok Tribal Court Opioid Program Manager\n",
      "Lee Romney, producer of this episode, as narrator\n",
      "StrongHearts Native Helpline (1-844-7NATIVE), a national, confidential and safe helpline for Native Americans facing domestic violence and dating violence.\n",
      "Information Bulletin on Enforcement of Tribal Court Protection Orders: This bulletin, issued by the California Office of the Attorney General, is the culmination of work on the part of the California Tribal Court-State Court Forum, in partnership with the California Department of Justice (DOJ), the\n"
     ]
    }
   ],
   "source": [
    "# print the first sequence\n",
    "# note: each sequence might consist of multiple documents separated by '<|endoftext|>'\n",
    "# note: documents are the individual instances in the source dataset\n",
    "print(decoded_batch[0])"
   ]
  },
  {
   "cell_type": "code",
   "execution_count": 38,
   "metadata": {},
   "outputs": [
    {
     "name": "stdout",
     "output_type": "stream",
     "text": [
      "1024\n",
      "1024\n"
     ]
    }
   ],
   "source": [
    "# convert every sequence to individual tokens\n",
    "individual_tokens = [[tokenizer.base_tokenizer.id_to_token(id) for id in instance] for instance in batch_instances]\n",
    "print(len(individual_tokens))\n",
    "print(len(individual_tokens[0]))\n"
   ]
  },
  {
   "cell_type": "code",
   "execution_count": 46,
   "metadata": {},
   "outputs": [
    {
     "name": "stdout",
     "output_type": "stream",
     "text": [
      "[615]\n",
      "['Ġheaders', ':', 'Ġ{', 'ĠAccept', ':', \"Ġ'\", 'application', '/octet', '-stream', \"'\", 'Ġ},Ċ', 'ĠĠĠĠĠĠĠĠĠ', 'Ġparser', ':', 'Ġproc', 'Ġ{', 'Ġ|', 'body', ',', 'Ġ_', '|Ċ', 'ĠĠĠĠĠĠĠĠĠĠĠĠĠĠĠĠĠĠĠ', 'Ġif', 'Ġbody', '.encoding', 'Ġ==', 'ĠEncoding', '::', 'ASCII', '_', '8', 'BIT', 'Ġ#', 'Ġbinary', 'Ġresponse', 'Ċ', 'ĠĠĠĠĠĠĠĠĠĠĠĠĠĠĠĠĠĠĠĠĠ', 'Ġ::', 'Git', 'lab', '::', 'File', 'Response', '.new', 'ĠStringIO', '.new', '(body', ',', \"Ġ'\", 'rb', '+', \"')Ċ\", 'ĠĠĠĠĠĠĠĠĠĠĠĠĠĠĠĠĠĠĠ', 'Ġelse', 'Ġ#', 'Ġerror', 'Ġwith', 'Ġjson', 'Ġresponse', 'Ċ', 'ĠĠĠĠĠĠĠĠĠĠĠĠĠĠĠĠĠĠĠĠĠ', 'Ġ::', 'Git', 'lab', '::', 'Request', '.parse', '(body', ')Ċ', 'ĠĠĠĠĠĠĠĠĠĠĠĠĠĠĠĠĠĠĠ', 'Ġend', 'Ċ', 'ĠĠĠĠĠĠĠĠĠĠĠĠĠĠĠĠĠ', 'Ġ})Ċ', 'ĠĠĠ', 'Ġend', 'ĊĊ', 'ĠĠĠ', 'Ġ#', 'ĠGets', 'Ġa', 'Ġlist', 'Ġof', 'Ġbuilds', 'Ġfor', 'Ġspecific', 'Ġcommit', 'Ġin', 'Ġa', 'Ġproject', '.Ċ', 'ĠĠĠ', 'Ġ#Ċ', 'ĠĠĠ', 'Ġ#', 'Ġ@', 'example', 'Ċ', 'ĠĠĠ', 'Ġ#', 'ĠĠ', 'ĠGit', 'lab', '.commit', '_build', 's', '(', '5', ',', \"Ġ'\", 'asdf', \"')Ċ\", 'ĠĠĠ', 'Ġ#', 'ĠĠ', 'ĠGit', 'lab', '.commit', '_build', 's', '(', '5', ',', \"Ġ'\", 'asdf', \"',\", 'Ġ{', 'Ġper', '_page', ':', 'Ġ', '10', ',', 'Ġpage', ':', 'Ġ', '2', 'Ġ})Ċ', 'ĠĠĠ', 'Ġ#Ċ', 'ĠĠĠ', 'Ġ#', 'Ġ@', 'param', 'Ġ', 'Ġ[', 'Integer', ',', 'ĠString', ']', 'Ġproject', 'ĠThe', 'ĠID', 'Ġor', 'Ġname', 'Ġof', 'Ġa', 'Ġproject', '.Ċ', 'ĠĠĠ', 'Ġ#', 'Ġ@', 'param', 'Ġ', 'Ġ[', 'String', ']', 'Ġsha', 'ĠThe', 'ĠSHA', 'Ġchecksum', 'Ġof', 'Ġa', 'Ġcommit', '.Ċ', 'ĠĠĠ', 'Ġ#', 'Ġ@', 'param', 'Ġ', 'Ġ[', 'Hash', ']', 'Ġoptions', 'ĠA', 'Ġcustomizable', 'Ġset', 'Ġof', 'Ġoptions', '.Ċ', 'ĠĠĠ', 'Ġ#', 'Ġ@', 'option', 'Ġoptions', 'Ġ[', 'Integer', ']', 'Ġ:', 'page', 'ĠThe', 'Ġpage', 'Ġnumber', '.Ċ', 'ĠĠĠ', 'Ġ#', 'Ġ@', 'option', 'Ġoptions', 'Ġ[', 'Integer', ']', 'Ġ:', 'per', '_page', 'ĠThe', 'Ġnumber', 'Ġof', 'Ġresults', 'Ġper', 'Ġpage', '.Ċ', 'ĠĠĠ', 'Ġ#', 'Ġ@', 'return', 'Ġ[', 'Array', '<', 'Git', 'lab', '::', 'Object', 'ified', 'Hash', '>]', 'ĠThe', 'Ġlist', 'Ġof', 'Ġbuilds', '.Ċ', 'ĠĠĠ', 'Ġdef', 'Ġcommit', '_build', 's', '(project', ',', 'Ġsha', ',', 'Ġoptions', 'Ġ=', 'Ġ{})Ċ', 'ĠĠĠĠĠ', 'Ġget', '(\"/', 'projects', '/#{', 'url', '_encode', 'Ġproject', '}/', 'repository', '/', 'comm', 'its', '/#{', 'sha', '}/', 'build', 's', '\",', 'Ġquery', ':', 'Ġoptions', ')Ċ', 'ĠĠĠ', 'Ġend', 'ĊĊ', 'ĠĠĠ', 'Ġ#', 'ĠCanc', 'els', 'Ġa', 'Ġbuild', '.Ċ', 'ĠĠĠ', 'Ġ#Ċ', 'ĠĠĠ', 'Ġ#', 'Ġ@', 'example', 'Ċ', 'ĠĠĠ', 'Ġ#', 'ĠĠ', 'ĠGit', 'lab', '.build', '_cancel', '(', '5', ',', 'Ġ', '1', ')Ċ', 'ĠĠĠ', 'Ġ#Ċ', 'ĠĠĠ', 'Ġ#', 'Ġ@', 'param', 'Ġ', 'Ġ[', 'Integer', ',', 'ĠString', ']', 'Ġproject', 'ĠThe', 'ĠID', 'Ġor', 'Ġname', 'Ġof', 'Ġa', 'Ġproject', '.Ċ', 'ĠĠĠ', 'Ġ#', 'Ġ@', 'param', 'Ġ', 'Ġ[', 'Integer', ']', 'Ġid', 'ĠThe', 'ĠID', 'Ġof', 'Ġa', 'Ġbuild', '.Ċ', 'ĠĠĠ', 'Ġ#', 'Ġ@', 'return', 'Ġ[', 'Git', 'lab', '::', 'Object', 'ified', 'Hash', ']', 'ĠThe', 'Ġbuilds', 'Ġchanges', '.Ċ', 'ĠĠĠ', 'Ġdef', 'Ġbuild', '_cancel', '(project', ',', 'Ġid', ')Ċ', 'ĠĠĠĠĠ', 'Ġpost', '(\"/', 'projects', '/#{', 'url', '_encode', 'Ġproject', '}/', 'build', 's', '/#{', 'id', '}/', 'cancel', '\")Ċ', 'ĠĠĠ', 'Ġend', 'ĊĊ', 'ĠĠĠ', 'Ġ#', 'ĠRetry', 'Ġa', 'Ġbuild', '.Ċ', 'ĠĠĠ', 'Ġ#Ċ', 'ĠĠĠ', 'Ġ#', 'Ġ@', 'example', 'Ċ', 'ĠĠĠ', 'Ġ#', 'ĠĠ', 'ĠGit', 'lab', '.build', '_retry', '(', '5', ',', 'Ġ', '1', ')Ċ', 'ĠĠĠ', 'Ġ#Ċ', 'ĠĠĠ', 'Ġ#', 'Ġ@', 'param', 'Ġ', 'Ġ[', 'Integer', ',', 'ĠString', ']', 'Ġproject', 'ĠThe', 'ĠID', 'Ġor', 'Ġname', 'Ġof', 'Ġa', 'Ġproject', '.Ċ', 'ĠĠĠ', 'Ġ#', 'Ġ@', 'param', 'Ġ', 'Ġ[', 'Integer', ']', 'Ġid', 'ĠThe', 'ĠID', 'Ġof', 'Ġa', 'Ġbuild', '.Ċ', 'ĠĠĠ', 'Ġ#', 'Ġ@', 'return', 'Ġ[', 'Array', '<', 'Git', 'lab', '::', 'Object', 'ified', 'Hash', '>]', 'ĠThe', 'Ġbuilds', 'Ġchanges', '.Ċ', 'ĠĠĠ', 'Ġdef', 'Ġbuild', '_retry', '(project', ',', 'Ġid', ')Ċ', 'ĠĠĠĠĠ', 'Ġpost', '(\"/', 'projects', '/#{', 'url', '_encode', 'Ġproject', '}/', 'build', 's', '/#{', 'id', '}/', 'retry', '\")Ċ', 'ĠĠĠ', 'Ġend', 'ĊĊ', 'ĠĠĠ', 'Ġ#', 'ĠEr', 'ase', 'Ġa', 'Ġsingle', 'Ġbuild', 'Ġof', 'Ġa', 'Ġproject', 'Ġ(', 'remove', 'Ġbuild', 'Ġartifacts', 'Ġand', 'Ġa', 'Ġbuild', 'Ġtrace', ')Ċ', 'ĠĠĠ', 'Ġ#Ċ', 'ĠĠĠ', 'Ġ#', 'Ġ@', 'example', 'Ċ', 'ĠĠĠ', 'Ġ#', 'ĠĠ', 'ĠGit', 'lab', '.build', '_erase', '(', '5', ',', 'Ġ', '1', ')Ċ', 'ĠĠĠ', 'Ġ#Ċ', 'ĠĠĠ', 'Ġ#', 'Ġ@', 'param', 'Ġ', 'Ġ[', 'Integer', ',', 'ĠString', ']', 'Ġproject', 'ĠThe', 'ĠID', 'Ġor', 'Ġname', 'Ġof', 'Ġa', 'Ġproject', '.Ċ', 'ĠĠĠ', 'Ġ#', 'Ġ@', 'param', 'Ġ', 'Ġ[', 'Integer', ']', 'Ġid', 'ĠThe', 'ĠID', 'Ġof', 'Ġa', 'Ġbuild', '.Ċ', 'ĠĠĠ', 'Ġ#', 'Ġ@', 'return', 'Ġ[', 'Git', 'lab', '::', 'Object', 'ified', 'Hash', ']', 'ĠThe', 'Ġbuild', \"'s\", 'Ġchanges', '.Ċ', 'ĠĠĠ', 'Ġdef', 'Ġbuild', '_erase', '(project', ',', 'Ġid', ')Ċ', 'ĠĠĠĠĠ', 'Ġpost', '(\"/', 'projects', '/#{', 'url', '_encode', 'Ġproject', '}/', 'build', 's', '/#{', 'id', '}/', 'erase', '\")Ċ', 'ĠĠĠ', 'Ġend', 'Ċ', 'Ġ', 'Ġend', 'Ċ', 'end']\n"
     ]
    }
   ],
   "source": [
    "# check if the sequence consinsts of multiple documents\n",
    "if '<|endoftext|>' in individual_tokens[0]:\n",
    "    document_boundaries = [i for i, token in enumerate(individual_tokens[0]) if token == '<|endoftext|>']\n",
    "    print(document_boundaries)\n",
    "\n",
    "    # get the first document\n",
    "    first_document = individual_tokens[0][:document_boundaries[0]]\n",
    "    print(first_document)\n"
   ]
  },
  {
   "cell_type": "code",
   "execution_count": null,
   "metadata": {},
   "outputs": [],
   "source": []
  }
 ],
 "metadata": {
  "kernelspec": {
   "display_name": "olmo",
   "language": "python",
   "name": "python3"
  },
  "language_info": {
   "codemirror_mode": {
    "name": "ipython",
    "version": 3
   },
   "file_extension": ".py",
   "mimetype": "text/x-python",
   "name": "python",
   "nbconvert_exporter": "python",
   "pygments_lexer": "ipython3",
   "version": "3.10.11"
  }
 },
 "nbformat": 4,
 "nbformat_minor": 2
}
