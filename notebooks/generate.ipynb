{
 "cells": [
  {
   "cell_type": "code",
   "execution_count": 23,
   "metadata": {},
   "outputs": [],
   "source": [
    "import os\n",
    "import torch \n",
    "\n",
    "from olmo.config import TrainConfig\n",
    "from olmo.model import OLMo\n",
    "from olmo.tokenizer import Tokenizer"
   ]
  },
  {
   "cell_type": "code",
   "execution_count": 11,
   "metadata": {},
   "outputs": [],
   "source": [
    "# checkpoint path\n",
    "checkpoint_path = \"/network/scratch/m/marius.mosbach/olmo/checkpoints/slim_pajama/OLMo-136M-84M-9ec76061bd866c49/step5000-unsharded\""
   ]
  },
  {
   "cell_type": "code",
   "execution_count": null,
   "metadata": {},
   "outputs": [],
   "source": [
    "model = OLMo.from_checkpoint(checkpoint_path)\n",
    "print(f\"Total number of parameters: {model.num_params():,d}\")"
   ]
  },
  {
   "cell_type": "code",
   "execution_count": 27,
   "metadata": {},
   "outputs": [],
   "source": [
    "# load the corresponding model config\n",
    "config_path = os.path.join(checkpoint_path, \"config.yaml\")\n",
    "train_config = TrainConfig.load(config_path)"
   ]
  },
  {
   "cell_type": "code",
   "execution_count": 28,
   "metadata": {},
   "outputs": [],
   "source": [
    "# load the tokenizer\n",
    "tokenizer = Tokenizer.from_file(train_config.tokenizer.identifier)"
   ]
  },
  {
   "cell_type": "code",
   "execution_count": null,
   "metadata": {},
   "outputs": [],
   "source": [
    "# encode some input text\n",
    "input_text = \"Hello, how are you?\"\n",
    "input_ids = tokenizer.encode(input_text, add_special_tokens=True)\n",
    "input_tokens = [tokenizer.base_tokenizer.id_to_token(id) for id in input_ids]\n",
    "print(input_ids)\n",
    "print(input_tokens)"
   ]
  },
  {
   "cell_type": "code",
   "execution_count": null,
   "metadata": {},
   "outputs": [],
   "source": [
    "# put the model on the GPU\n",
    "# model = model.to(\"cuda\")\n",
    "model.eval()"
   ]
  },
  {
   "cell_type": "code",
   "execution_count": null,
   "metadata": {},
   "outputs": [],
   "source": [
    "# generate from the model\n",
    "# Note: see olmo.beam_search.BeamSearch for more details\n",
    "input_ids = torch.tensor(input_ids)[None, :]\n",
    "generated_ids = model.generate(input_ids, max_steps=10, beam_size=1)"
   ]
  },
  {
   "cell_type": "code",
   "execution_count": null,
   "metadata": {},
   "outputs": [],
   "source": []
  }
 ],
 "metadata": {
  "kernelspec": {
   "display_name": "olmo",
   "language": "python",
   "name": "python3"
  },
  "language_info": {
   "codemirror_mode": {
    "name": "ipython",
    "version": 3
   },
   "file_extension": ".py",
   "mimetype": "text/x-python",
   "name": "python",
   "nbconvert_exporter": "python",
   "pygments_lexer": "ipython3",
   "version": "3.10.11"
  }
 },
 "nbformat": 4,
 "nbformat_minor": 2
}
